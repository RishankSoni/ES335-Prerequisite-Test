{
  "cells": [
    {
      "cell_type": "markdown",
      "metadata": {
        "colab_type": "text",
        "id": "view-in-github"
      },
      "source": [
        "<a href=\"https://colab.research.google.com/github/RishankSoni/ES335-Prerequisite-Test/blob/main/ML_prerequisites.ipynb\" target=\"_parent\"><img src=\"https://colab.research.google.com/assets/colab-badge.svg\" alt=\"Open In Colab\"/></a>"
      ]
    },
    {
      "cell_type": "markdown",
      "metadata": {
        "id": "cY9a5dT9RqrN"
      },
      "source": [
        "# ES 335: Machine Learning Pre-requisite\n"
      ]
    },
    {
      "cell_type": "markdown",
      "metadata": {
        "id": "994p9Co0PICH"
      },
      "source": [
        "Rishank Soni\n",
        "\n",
        "23110277\n",
        "\n",
        "\n"
      ]
    },
    {
      "cell_type": "code",
      "execution_count": null,
      "metadata": {
        "id": "vo8oMDQ9n0kk"
      },
      "outputs": [],
      "source": [
        "import numpy as np\n",
        "import time\n",
        "import random\n",
        "import pandas as pd\n",
        "import jax\n",
        "import jax.numpy as jnp\n",
        "import sympy as sp\n",
        "import matplotlib.pyplot as plt\n"
      ]
    },
    {
      "cell_type": "markdown",
      "metadata": {
        "id": "_CwozAM1TWIE"
      },
      "source": [
        "## Question 1"
      ]
    },
    {
      "cell_type": "markdown",
      "metadata": {
        "id": "E5k-tIh3TRqM"
      },
      "source": [
        "\n",
        "\n",
        "To multiply a matrix of size (n × k) with a matrix of size (k × m), the result is a matrix of size (n × m).\n",
        "\n",
        "Each element in the resulting matrix is computed by taking the dot product of a row from the first matrix and a column from the second matrix. This requires:\n",
        "\n",
        "* **k multiplications** and\n",
        "* **(k - 1) additions** for each element.\n",
        "\n",
        "Since there are **n × m** elements in the result, the total number of operations is:\n",
        "\n",
        "* **n × m × k multiplications**\n",
        "* **n × m × (k - 1) additions**\n",
        "\n",
        "\n",
        "\n",
        "\n"
      ]
    },
    {
      "cell_type": "markdown",
      "metadata": {
        "id": "wKGln3D6Tg7u"
      },
      "source": [
        "##Question 2"
      ]
    },
    {
      "cell_type": "code",
      "execution_count": null,
      "metadata": {
        "colab": {
          "base_uri": "https://localhost:8080/"
        },
        "id": "9ee81UCjPURD",
        "outputId": "7beba08b-a8b2-49d5-d7e9-9a3b05fe045f"
      },
      "outputs": [
        {
          "name": "stdout",
          "output_type": "stream",
          "text": [
            "Time taken by list-of-lists method: 77.979643 seconds\n",
            "Time taken by NumPy method: 0.026663 seconds\n",
            "NumPy multiplication is faster.\n"
          ]
        }
      ],
      "source": [
        "\n",
        "\n",
        "def matrix_multiplication_list(m1,m2):\n",
        "    n,k1 = len(m1),len(m1[0])\n",
        "    k2,m = len(m2), len(m2[0])\n",
        "    if k1!=k2:\n",
        "        return \"Invalid dimensions\"\n",
        "    ans = [[0 for i in range(m)] for j in range(n)]\n",
        "    for i in range(n):\n",
        "        for j in range(m):\n",
        "            for k in range(k1):\n",
        "                ans[i][j] += m1[i][k]*m2[k][j]\n",
        "    return ans\n",
        "\n",
        "def matrix_multiplication_numpy(m1,m2):\n",
        "    return np.dot(m1,m2)\n",
        "\n",
        "\n",
        "\n",
        "\n",
        "m1 = np.random.random(size=(100, 1000))\n",
        "m2 = np.random.random(size=(1000, 3000))\n",
        "\n",
        "start = time.time()\n",
        "result_list = matrix_multiplication_list(m1.tolist(), m2.tolist())\n",
        "end = time.time()\n",
        "list_time = end - start\n",
        "\n",
        "# Measure time for NumPy method\n",
        "start = time.time()\n",
        "result_numpy = matrix_multiplication_numpy(m1, m2)\n",
        "end = time.time()\n",
        "numpy_time = end - start\n",
        "\n",
        "print(f\"Time taken by list-of-lists method: {list_time:.6f} seconds\")\n",
        "print(f\"Time taken by NumPy method: {numpy_time:.6f} seconds\")\n",
        "\n",
        "if numpy_time < list_time:\n",
        "    print(\"NumPy multiplication is faster.\")\n",
        "else:\n",
        "    print(\"List-of-lists multiplication is faster.\")\n",
        "\n",
        "\n"
      ]
    },
    {
      "cell_type": "markdown",
      "metadata": {
        "id": "reBGvCgwV9is"
      },
      "source": [
        "NumPy multiplies matrices faster than using lists of lists because NumPy arrays are optimized for mathematical operations. These operations are implemented in C, which is a low-level, compiled language. As a result, they run much faster compared to Python loops, which are interpreted and slower."
      ]
    },
    {
      "cell_type": "markdown",
      "metadata": {
        "id": "k8_88g17WAKZ"
      },
      "source": [
        "## Question 3\n"
      ]
    },
    {
      "cell_type": "markdown",
      "metadata": {
        "id": "TbuSl-H6XbHv"
      },
      "source": [
        "The time complexity of finding the median using this method is O(n²)."
      ]
    },
    {
      "cell_type": "code",
      "execution_count": null,
      "metadata": {
        "id": "Yqsns_hBWCvM"
      },
      "outputs": [],
      "source": [
        "\n",
        "# Naive approch\n",
        "def kth_smallest(arr, k):\n",
        "    arr_copy = arr.copy()\n",
        "    for _ in range(k + 1):\n",
        "        min_val = float('inf')\n",
        "        min_index = -1\n",
        "        for i in range(len(arr_copy)):\n",
        "            if arr_copy[i] < min_val:\n",
        "                min_val = arr_copy[i]\n",
        "                min_index = i\n",
        "        if min_index != -1:\n",
        "            arr_copy[min_index] = float('inf')\n",
        "    return min_val\n",
        "\n",
        "def calculate_median(arr):\n",
        "    n = len(arr)\n",
        "    if n % 2 != 0:\n",
        "        return kth_smallest(arr, n // 2)\n",
        "    return (kth_smallest(arr, n // 2 - 1) + kth_smallest(arr, n // 2)) / 2\n"
      ]
    },
    {
      "cell_type": "markdown",
      "metadata": {
        "id": "fa4sVb_fXKVS"
      },
      "source": [
        "Sorting the array or using quick sort, both would O(nlog(n))"
      ]
    },
    {
      "cell_type": "code",
      "execution_count": null,
      "metadata": {
        "id": "SaoqeCpMXBk1"
      },
      "outputs": [],
      "source": [
        "def calculate_median_sort(arr):\n",
        "  arrc=arr.copy()\n",
        "  arrc.sort()\n",
        "  n=len(arr)\n",
        "  if n%2==0:\n",
        "    return (arrc[n//2]+arrc[n//2-1])/2\n",
        "  else:\n",
        "    return arrc[n//2]"
      ]
    },
    {
      "cell_type": "code",
      "execution_count": null,
      "metadata": {
        "id": "W4_th35gYINt"
      },
      "outputs": [],
      "source": [
        "def calculate_median_numpy(arr):\n",
        "  return np.median(arr)"
      ]
    },
    {
      "cell_type": "code",
      "execution_count": null,
      "metadata": {
        "colab": {
          "base_uri": "https://localhost:8080/"
        },
        "id": "auovnaV0XIIC",
        "outputId": "918586ca-87e4-4e9c-8f90-218365658390"
      },
      "outputs": [
        {
          "name": "stdout",
          "output_type": "stream",
          "text": [
            "Median using manual loop method: 50\n",
            "Median using sorting method: 50\n",
            "Median using NumPy: 50.0\n",
            "Time taken by manual loop method: 2.546432 seconds\n",
            "Time taken by sorting method:     0.001442 seconds\n",
            "Time taken by NumPy method:       0.001312 seconds\n"
          ]
        }
      ],
      "source": [
        "arr = [np.random.randint(1, 100) for _ in range(10001)]\n",
        "\n",
        "# Median using the looping method\n",
        "start = time.time()\n",
        "print(f\"Median using manual loop method: {calculate_median(arr)}\")\n",
        "end = time.time()\n",
        "loop_time = end - start\n",
        "\n",
        "# Median using sorting\n",
        "start = time.time()\n",
        "print(f\"Median using sorting method: {calculate_median_sort(arr)}\")\n",
        "end = time.time()\n",
        "sort_time = end - start\n",
        "\n",
        "# Median using NumPy's built-in function\n",
        "start = time.time()\n",
        "print(f\"Median using NumPy: {calculate_median_numpy(arr)}\")\n",
        "end = time.time()\n",
        "numpy_time = end - start\n",
        "\n",
        "# Print timing comparisons\n",
        "print(f\"Time taken by manual loop method: {loop_time:.6f} seconds\")\n",
        "print(f\"Time taken by sorting method:     {sort_time:.6f} seconds\")\n",
        "print(f\"Time taken by NumPy method:       {numpy_time:.6f} seconds\")\n"
      ]
    },
    {
      "cell_type": "markdown",
      "metadata": {
        "id": "wurPBzKvYJcE"
      },
      "source": [
        "## Question 4"
      ]
    },
    {
      "cell_type": "markdown",
      "metadata": {
        "id": "7AjcGM5CYpw2"
      },
      "source": [
        "Given:\n",
        "$$\n",
        "f(x, y) = x^2 y + y^3 \\sin(x)\n",
        "$$\n",
        "Partial derivative with respect to \\(x\\):  \n",
        "$$\n",
        " \\frac{\\partial f}{\\partial x} = 2xy + y^3 \\cos(x)\n",
        "$$\n",
        "Partial derivative with respect to \\(y\\):  \n",
        "$$\n",
        " \\frac{\\partial f}{\\partial y} = x^2 + 3y^2 \\sin(x)\n",
        "$$"
      ]
    },
    {
      "cell_type": "markdown",
      "metadata": {
        "id": "7cfvElchZ9Dz"
      },
      "source": [
        "## Question 5"
      ]
    },
    {
      "cell_type": "code",
      "execution_count": null,
      "metadata": {
        "colab": {
          "base_uri": "https://localhost:8080/"
        },
        "id": "pGVBkL6KX9qB",
        "outputId": "fb5e6767-826f-4f43-8964-24d31f45a4ca"
      },
      "outputs": [
        {
          "name": "stdout",
          "output_type": "stream",
          "text": [
            "Point: (x = 3.81, y = 4.04)\n",
            "JAX gradient:   (Array(-20.97332, dtype=float32), Array(-15.700248, dtype=float32))\n",
            "Analytical gradient: [-20.97332  -15.700246]\n",
            "Difference: dx = 0.00e+00, dy = 1.91e-06\n",
            "\n",
            "Point: (x = 8.77, y = 2.82)\n",
            "JAX gradient:   (Array(31.663872, dtype=float32), Array(91.442795, dtype=float32))\n",
            "Analytical gradient: [31.663876 91.4428  ]\n",
            "Difference: dx = 3.81e-06, dy = 7.63e-06\n",
            "\n",
            "Point: (x = 6.23, y = 6.45)\n",
            "JAX gradient:   (Array(348.1656, dtype=float32), Array(32.00921, dtype=float32))\n",
            "Analytical gradient: [348.16556  32.00921]\n",
            "Difference: dx = 3.05e-05, dy = 0.00e+00\n",
            "\n",
            "Point: (x = 5.44, y = 1.70)\n",
            "JAX gradient:   (Array(21.748055, dtype=float32), Array(23.08889, dtype=float32))\n",
            "Analytical gradient: [21.748056 23.088894]\n",
            "Difference: dx = 1.91e-06, dy = 3.81e-06\n",
            "\n",
            "Point: (x = 9.17, y = 5.96)\n",
            "JAX gradient:   (Array(-95.37191, dtype=float32), Array(111.3295, dtype=float32))\n",
            "Analytical gradient: [-95.37192 111.32951]\n",
            "Difference: dx = 7.63e-06, dy = 1.53e-05\n",
            "\n"
          ]
        }
      ],
      "source": [
        "\n",
        "\n",
        "\n",
        "\n",
        "def f(x, y):\n",
        "    return x**2 * y + y**3 * jnp.sin(x)\n",
        "\n",
        "def manual_gradient(x, y):\n",
        "    df_dx = 2 * x * y + y**3 * jnp.cos(x)\n",
        "    df_dy = x**2 + 3 * y**2 * jnp.sin(x)\n",
        "    return np.array([df_dx, df_dy])\n",
        "\n",
        "grad_f = jax.grad(f, argnums=(0, 1))\n",
        "\n",
        "# Generate 5 random (x, y) points in the range [0, 10)\n",
        "points = np.random.rand(5, 2) * 10\n",
        "\n",
        "# Compare gradients at each point\n",
        "for x, y in points:\n",
        "    jax_grad = grad_f(x, y)\n",
        "    analytic_grad = manual_gradient(x, y)\n",
        "\n",
        "    print(f\"Point: (x = {x:.2f}, y = {y:.2f})\")\n",
        "    print(f\"JAX gradient:   {jax_grad}\")\n",
        "    print(f\"Analytical gradient: {analytic_grad}\")\n",
        "    print(f\"Difference: dx = {np.abs(jax_grad[0] - analytic_grad[0]):.2e}, dy = {np.abs(jax_grad[1] - analytic_grad[1]):.2e}\")\n",
        "    print()\n"
      ]
    },
    {
      "cell_type": "markdown",
      "metadata": {
        "id": "j9hFO2snaf6R"
      },
      "source": [
        "## Question 6"
      ]
    },
    {
      "cell_type": "code",
      "execution_count": null,
      "metadata": {
        "colab": {
          "base_uri": "https://localhost:8080/",
          "height": 97
        },
        "id": "XMwZlJaLaZZr",
        "outputId": "b95cc643-8cee-4f8f-94f4-c480e824ad67"
      },
      "outputs": [
        {
          "data": {
            "application/vnd.google.colaboratory.intrinsic+json": {
              "type": "string"
            },
            "text/plain": [
              "'df/dx ='"
            ]
          },
          "metadata": {},
          "output_type": "display_data"
        },
        {
          "data": {
            "text/latex": [
              "$\\displaystyle 2 x y + y^{3} \\cos{\\left(x \\right)}$"
            ],
            "text/plain": [
              "2*x*y + y**3*cos(x)"
            ]
          },
          "metadata": {},
          "output_type": "display_data"
        },
        {
          "data": {
            "application/vnd.google.colaboratory.intrinsic+json": {
              "type": "string"
            },
            "text/plain": [
              "'df/dy ='"
            ]
          },
          "metadata": {},
          "output_type": "display_data"
        },
        {
          "data": {
            "text/latex": [
              "$\\displaystyle x^{2} + 3 y^{2} \\sin{\\left(x \\right)}$"
            ],
            "text/plain": [
              "x**2 + 3*y**2*sin(x)"
            ]
          },
          "metadata": {},
          "output_type": "display_data"
        }
      ],
      "source": [
        "\n",
        "x, y = sp.symbols('x y')\n",
        "f = x * x * y + y * y * y * sp.sin(x)\n",
        "\n",
        "grad_x = sp.diff(f, x)\n",
        "grad_y = sp.diff(f, y)\n",
        "\n",
        "display(\"df/dx =\", grad_x)\n",
        "display(\"df/dy =\", grad_y)"
      ]
    },
    {
      "cell_type": "markdown",
      "metadata": {
        "id": "GYnN9pVVbgcy"
      },
      "source": [
        "## Question 7"
      ]
    },
    {
      "cell_type": "code",
      "execution_count": null,
      "metadata": {
        "id": "vLnKztQFZ_-o"
      },
      "outputs": [],
      "source": [
        "d = {\n",
        "    2022: {\n",
        "        \"Branch1\": {\n",
        "            \"student1\": {\n",
        "                \"roll_no\": 1,\n",
        "                \"name\": \"name1\",\n",
        "                \"marks\": {\n",
        "                    \"maths\": 100,\n",
        "                    \"english\": 70\n",
        "                }\n",
        "            },\n",
        "            \"student2\": {\n",
        "                \"roll_no\": 2,\n",
        "                \"name\": \"name2\",\n",
        "                \"marks\": {\n",
        "                    \"maths\": 100,\n",
        "                    \"english\": 70\n",
        "                }\n",
        "            }\n",
        "        },\n",
        "        \"Branch2\": {\n",
        "            \"student3\": {\n",
        "                \"roll_no\": 3,\n",
        "                \"name\": \"name3\",\n",
        "                \"marks\": {\n",
        "                    \"maths\": 100,\n",
        "                    \"english\": 70\n",
        "                }\n",
        "            },\n",
        "            \"student4\": {\n",
        "                \"roll_no\": 4,\n",
        "                \"name\": \"name4\",\n",
        "                \"marks\": {\n",
        "                    \"maths\": 100,\n",
        "                    \"english\": 70\n",
        "                }\n",
        "            }\n",
        "        }\n",
        "    },\n",
        "    2023: {\n",
        "        \"Computer Science\": {},\n",
        "        \"Electrical\": {}\n",
        "    },\n",
        "    2024: {\n",
        "        \"Computer Science\": {},\n",
        "        \"Electrical\": {}\n",
        "    },\n",
        "    2025: {\n",
        "        \"Computer Science\": {},\n",
        "        \"Electrical\": {}\n",
        "    }\n",
        "}\n"
      ]
    },
    {
      "cell_type": "code",
      "execution_count": null,
      "metadata": {
        "colab": {
          "base_uri": "https://localhost:8080/"
        },
        "id": "AENC_nfcbNii",
        "outputId": "87f6ba48-3bc2-466f-852e-f79e67dbf89e"
      },
      "outputs": [
        {
          "name": "stdout",
          "output_type": "stream",
          "text": [
            "{2022: {'Branch1': {'student1': {'roll_no': 1, 'name': 'name1', 'marks': {'maths': 100, 'english': 70}}, 'student2': {'roll_no': 2, 'name': 'name2', 'marks': {'maths': 100, 'english': 70}}}, 'Branch2': {'student3': {'roll_no': 3, 'name': 'name3', 'marks': {'maths': 100, 'english': 70}}, 'student4': {'roll_no': 4, 'name': 'name4', 'marks': {'maths': 100, 'english': 70}}}}, 2023: {'Computer Science': {}, 'Electrical': {}}, 2024: {'Computer Science': {}, 'Electrical': {}}, 2025: {'Computer Science': {}, 'Electrical': {}}}\n"
          ]
        }
      ],
      "source": [
        "print(d)"
      ]
    },
    {
      "cell_type": "markdown",
      "metadata": {
        "id": "KzuFeF9Pmisl"
      },
      "source": [
        "## Question 8"
      ]
    },
    {
      "cell_type": "code",
      "execution_count": null,
      "metadata": {
        "colab": {
          "base_uri": "https://localhost:8080/"
        },
        "id": "eGBvq0Y3bPZ3",
        "outputId": "935f79b2-d67d-4198-c7a5-3c73643615c1"
      },
      "outputs": [
        {
          "name": "stdout",
          "output_type": "stream",
          "text": [
            "Session Year: 2022\n",
            "Department: CSE\n",
            "\n",
            "Department: ECE\n",
            "Student: Rishank, Roll No: 3, Scores: {'Math': 100, 'English': 72, 'Science': 87}\n",
            "\n",
            "\n",
            "Session Year: 2023\n",
            "\n",
            "Session Year: 2024\n",
            "\n",
            "Session Year: 2025\n",
            "\n",
            "\n"
          ]
        }
      ],
      "source": [
        "class University:\n",
        "    def __init__(self):\n",
        "        self.sessions = [Session(year) for year in range(2022, 2026)]\n",
        "\n",
        "    def __repr__(self):\n",
        "        output = \"\"\n",
        "        for session in self.sessions:\n",
        "            output += str(session) + \"\\n\"\n",
        "        return output\n",
        "\n",
        "class Session:\n",
        "    def __init__(self, year):\n",
        "        self.year = year\n",
        "        self.departments = []\n",
        "\n",
        "    def __repr__(self):\n",
        "        output = f\"Session Year: {self.year}\\n\"\n",
        "        for department in self.departments:\n",
        "            output += str(department) + \"\\n\"\n",
        "        return output\n",
        "\n",
        "class Department:\n",
        "    def __init__(self, dept_name):\n",
        "        self.dept_name = dept_name\n",
        "        self.students = []\n",
        "\n",
        "    def __repr__(self):\n",
        "        output = f\"Department: {self.dept_name}\\n\"\n",
        "        for student in self.students:\n",
        "            output += str(student) + \"\\n\"\n",
        "        return output\n",
        "\n",
        "class Student:\n",
        "    def __init__(self, name, roll_no, subjects):\n",
        "        self.name = name\n",
        "        self.roll_no = roll_no\n",
        "        self.subjects = subjects\n",
        "\n",
        "    def __repr__(self):\n",
        "        return f\"Student: {self.name}, Roll No: {self.roll_no}, Scores: {self.subjects}\"\n",
        "\n",
        "univ = University()\n",
        "univ.sessions[0].departments.append(Department(\"CSE\"))\n",
        "univ.sessions[0].departments.append(Department(\"ECE\"))\n",
        "univ.sessions[0].departments[1].students.append(Student(\"Rishank\", 3, {\"Math\": 100, \"English\": 72, \"Science\": 87}))\n",
        "\n",
        "print(univ)\n"
      ]
    },
    {
      "cell_type": "markdown",
      "metadata": {
        "id": "KbQsEhX5dNeH"
      },
      "source": [
        "## Question 9"
      ]
    },
    {
      "cell_type": "code",
      "execution_count": null,
      "metadata": {
        "id": "WBTVxpHYdPmb"
      },
      "outputs": [],
      "source": [
        "\n",
        "def plot_fn(f):\n",
        "    x = np.arange(0.5, 100.5, 0.5)\n",
        "    y = f(x)\n",
        "    plt.plot(x, y)\n",
        "    plt.xlabel(\"x\")\n",
        "    plt.ylabel(\"y\")\n",
        "    plt.show()"
      ]
    },
    {
      "cell_type": "code",
      "execution_count": null,
      "metadata": {
        "colab": {
          "base_uri": "https://localhost:8080/",
          "height": 1000
        },
        "id": "pniwyNDxdcoa",
        "outputId": "11ea3d4f-3148-437c-8f38-f33f3d4626c4"
      },
      "outputs": [
        {
          "data": {
            "image/png": "[encoded data removed]",
            "text/plain": [
              "<Figure size 640x480 with 1 Axes>"
            ]
          },
          "metadata": {},
          "output_type": "display_data"
        },
        {
          "data": {
            "image/png": "[encoded data removed]",
            "text/plain": [
              "<Figure size 640x480 with 1 Axes>"
            ]
          },
          "metadata": {},
          "output_type": "display_data"
        },
        {
          "data": {
            "image/png": "[encoded data removed]",
            "text/plain": [
              "<Figure size 640x480 with 1 Axes>"
            ]
          },
          "metadata": {},
          "output_type": "display_data"
        },
        {
          "data": {
            "image/png": "[encoded data removed]",
            "text/plain": [
              "<Figure size 640x480 with 1 Axes>"
            ]
          },
          "metadata": {},
          "output_type": "display_data"
        },
        {
          "data": {
            "image/png": "[encoded data removed]",
            "text/plain": [
              "<Figure size 640x480 with 1 Axes>"
            ]
          },
          "metadata": {},
          "output_type": "display_data"
        },
        {
          "data": {
            "image/png": "[encoded data removed]",
            "text/plain": [
              "<Figure size 640x480 with 1 Axes>"
            ]
          },
          "metadata": {},
          "output_type": "display_data"
        },
        {
          "data": {
            "image/png": "[encoded data removed]",
            "text/plain": [
              "<Figure size 640x480 with 1 Axes>"
            ]
          },
          "metadata": {},
          "output_type": "display_data"
        }
      ],
      "source": [
        "\n",
        "plot_fn(lambda x: x)\n",
        "plot_fn(lambda x: x * x)\n",
        "plot_fn(lambda x: x ** 3 / 100)\n",
        "plot_fn(lambda x: np.sin(x))\n",
        "plot_fn(lambda x: np.sin(x) / x)\n",
        "plot_fn(lambda x: np.log(x))\n",
        "plot_fn(lambda x: np.exp(x))"
      ]
    },
    {
      "cell_type": "markdown",
      "metadata": {
        "id": "F3rHIaSMeFjM"
      },
      "source": [
        "## Question 10"
      ]
    },
    {
      "cell_type": "code",
      "execution_count": null,
      "metadata": {
        "colab": {
          "base_uri": "https://localhost:8080/"
        },
        "id": "9O1cHLRVdfYt",
        "outputId": "6d924684-ae2a-4dec-ad97-ec513ebfc5bc"
      },
      "outputs": [
        {
          "name": "stdout",
          "output_type": "stream",
          "text": [
            "Column with the highest standard deviation: a\n",
            "Row with the lowest mean: 2\n"
          ]
        }
      ],
      "source": [
        "\n",
        "#Generate a 20x5 matrix with random numbers from a uniform distribution in [1, 2)\n",
        "matrix = np.random.uniform(1, 2, size=(20, 5))\n",
        "\n",
        "# Create a DataFrame and name the columns 'a' to 'e'\n",
        "df = pd.DataFrame(matrix, columns=['a', 'b', 'c', 'd', 'e'])\n",
        "\n",
        "#Find the column with the highest standard deviation\n",
        "column_with_max_std = df.std().idxmax()\n",
        "\n",
        "#Find the row with the lowest mean\n",
        "row_with_min_mean = df.mean(axis=1).idxmin()\n",
        "\n",
        "# Display results\n",
        "print(\"Column with the highest standard deviation:\", column_with_max_std)\n",
        "print(\"Row with the lowest mean:\", row_with_min_mean)\n"
      ]
    },
    {
      "cell_type": "markdown",
      "metadata": {
        "id": "amRUBdD0eaJb"
      },
      "source": [
        "## Question 11"
      ]
    },
    {
      "cell_type": "code",
      "execution_count": null,
      "metadata": {
        "colab": {
          "base_uri": "https://localhost:8080/",
          "height": 728
        },
        "id": "PZnDm2TteH9i",
        "outputId": "136dfc33-f7ee-4ee0-ae37-673dc8f96743"
      },
      "outputs": [
        {
          "name": "stdout",
          "output_type": "stream",
          "text": [
            "Number of rows with g == 'LT8': 18\n",
            "Standard deviation of 'f' for LT8 group: 0.4331\n",
            "Standard deviation of 'f' for GT8 group: 0.1114\n"
          ]
        },
        {
          "data": {
            "application/vnd.google.colaboratory.intrinsic+json": {
              "summary": "{\n  \"name\": \"df\",\n  \"rows\": 20,\n  \"fields\": [\n    {\n      \"column\": \"a\",\n      \"properties\": {\n        \"dtype\": \"number\",\n        \"std\": 0.34479085273770715,\n        \"min\": 1.0114408297397053,\n        \"max\": 1.9851884299749205,\n        \"num_unique_values\": 20,\n        \"samples\": [\n          1.1643920766866573,\n          1.937487969372178,\n          1.9851884299749205\n        ],\n        \"semantic_type\": \"\",\n        \"description\": \"\"\n      }\n    },\n    {\n      \"column\": \"b\",\n      \"properties\": {\n        \"dtype\": \"number\",\n        \"std\": 0.23434656907576717,\n        \"min\": 1.0398683625684222,\n        \"max\": 1.9425153955623604,\n        \"num_unique_values\": 20,\n        \"samples\": [\n          1.0398683625684222,\n          1.4108272763218213,\n          1.6633267759599464\n        ],\n        \"semantic_type\": \"\",\n        \"description\": \"\"\n      }\n    },\n    {\n      \"column\": \"c\",\n      \"properties\": {\n        \"dtype\": \"number\",\n        \"std\": 0.3246100644532885,\n        \"min\": 1.0070953759962136,\n        \"max\": 1.9988038340354986,\n        \"num_unique_values\": 20,\n        \"samples\": [\n          1.9393177252487486,\n          1.3008963709477717,\n          1.9385732457666498\n        ],\n        \"semantic_type\": \"\",\n        \"description\": \"\"\n      }\n    },\n    {\n      \"column\": \"d\",\n      \"properties\": {\n        \"dtype\": \"number\",\n        \"std\": 0.32014473758074147,\n        \"min\": 1.0301780568979932,\n        \"max\": 1.970233750215245,\n        \"num_unique_values\": 20,\n        \"samples\": [\n          1.0521440324274125,\n          1.4347603678249876,\n          1.187200434757375\n        ],\n        \"semantic_type\": \"\",\n        \"description\": \"\"\n      }\n    },\n    {\n      \"column\": \"e\",\n      \"properties\": {\n        \"dtype\": \"number\",\n        \"std\": 0.26593506422388563,\n        \"min\": 1.096979959487778,\n        \"max\": 1.922565518245027,\n        \"num_unique_values\": 20,\n        \"samples\": [\n          1.5230645143286763,\n          1.1285514627940971,\n          1.1393760508751754\n        ],\n        \"semantic_type\": \"\",\n        \"description\": \"\"\n      }\n    },\n    {\n      \"column\": \"f\",\n      \"properties\": {\n        \"dtype\": \"number\",\n        \"std\": 0.4739759878528939,\n        \"min\": 6.6346790373290006,\n        \"max\": 8.206255101199625,\n        \"num_unique_values\": 20,\n        \"samples\": [\n          6.718786711259917,\n          7.212523447260856,\n          7.913664937334067\n        ],\n        \"semantic_type\": \"\",\n        \"description\": \"\"\n      }\n    },\n    {\n      \"column\": \"g\",\n      \"properties\": {\n        \"dtype\": \"category\",\n        \"num_unique_values\": 2,\n        \"samples\": [\n          \"GT8\",\n          \"LT8\"\n        ],\n        \"semantic_type\": \"\",\n        \"description\": \"\"\n      }\n    }\n  ]\n}",
              "type": "dataframe",
              "variable_name": "df"
            },
            "text/html": [
              "\n",
              "  <div id=\"df-b4afd723-76a9-4548-bdd2-56eb3ad52b07\" class=\"colab-df-container\">\n",
              "    <div>\n",
              "<style scoped>\n",
              "    .dataframe tbody tr th:only-of-type {\n",
              "        vertical-align: middle;\n",
              "    }\n",
              "\n",
              "    .dataframe tbody tr th {\n",
              "        vertical-align: top;\n",
              "    }\n",
              "\n",
              "    .dataframe thead th {\n",
              "        text-align: right;\n",
              "    }\n",
              "</style>\n",
              "<table border=\"1\" class=\"dataframe\">\n",
              "  <thead>\n",
              "    <tr style=\"text-align: right;\">\n",
              "      <th></th>\n",
              "      <th>a</th>\n",
              "      <th>b</th>\n",
              "      <th>c</th>\n",
              "      <th>d</th>\n",
              "      <th>e</th>\n",
              "      <th>f</th>\n",
              "      <th>g</th>\n",
              "    </tr>\n",
              "  </thead>\n",
              "  <tbody>\n",
              "    <tr>\n",
              "      <th>0</th>\n",
              "      <td>1.164392</td>\n",
              "      <td>1.039868</td>\n",
              "      <td>1.939318</td>\n",
              "      <td>1.052144</td>\n",
              "      <td>1.523065</td>\n",
              "      <td>6.718787</td>\n",
              "      <td>LT8</td>\n",
              "    </tr>\n",
              "    <tr>\n",
              "      <th>1</th>\n",
              "      <td>1.835975</td>\n",
              "      <td>1.894295</td>\n",
              "      <td>1.555878</td>\n",
              "      <td>1.601845</td>\n",
              "      <td>1.318262</td>\n",
              "      <td>8.206255</td>\n",
              "      <td>GT8</td>\n",
              "    </tr>\n",
              "    <tr>\n",
              "      <th>2</th>\n",
              "      <td>1.633111</td>\n",
              "      <td>1.919408</td>\n",
              "      <td>1.494082</td>\n",
              "      <td>1.509307</td>\n",
              "      <td>1.425979</td>\n",
              "      <td>7.981887</td>\n",
              "      <td>LT8</td>\n",
              "    </tr>\n",
              "    <tr>\n",
              "      <th>3</th>\n",
              "      <td>1.970563</td>\n",
              "      <td>1.614688</td>\n",
              "      <td>1.126126</td>\n",
              "      <td>1.494106</td>\n",
              "      <td>1.555363</td>\n",
              "      <td>7.760846</td>\n",
              "      <td>LT8</td>\n",
              "    </tr>\n",
              "    <tr>\n",
              "      <th>4</th>\n",
              "      <td>1.043133</td>\n",
              "      <td>1.390871</td>\n",
              "      <td>1.340745</td>\n",
              "      <td>1.050497</td>\n",
              "      <td>1.922566</td>\n",
              "      <td>6.747811</td>\n",
              "      <td>LT8</td>\n",
              "    </tr>\n",
              "    <tr>\n",
              "      <th>5</th>\n",
              "      <td>1.740366</td>\n",
              "      <td>1.493295</td>\n",
              "      <td>1.840256</td>\n",
              "      <td>1.068124</td>\n",
              "      <td>1.906627</td>\n",
              "      <td>8.048668</td>\n",
              "      <td>GT8</td>\n",
              "    </tr>\n",
              "    <tr>\n",
              "      <th>6</th>\n",
              "      <td>1.225128</td>\n",
              "      <td>1.942515</td>\n",
              "      <td>1.230504</td>\n",
              "      <td>1.512751</td>\n",
              "      <td>1.417149</td>\n",
              "      <td>7.328049</td>\n",
              "      <td>LT8</td>\n",
              "    </tr>\n",
              "    <tr>\n",
              "      <th>7</th>\n",
              "      <td>1.011441</td>\n",
              "      <td>1.419706</td>\n",
              "      <td>1.739542</td>\n",
              "      <td>1.799663</td>\n",
              "      <td>1.146720</td>\n",
              "      <td>7.117073</td>\n",
              "      <td>LT8</td>\n",
              "    </tr>\n",
              "    <tr>\n",
              "      <th>8</th>\n",
              "      <td>1.357328</td>\n",
              "      <td>1.816439</td>\n",
              "      <td>1.042319</td>\n",
              "      <td>1.059770</td>\n",
              "      <td>1.358824</td>\n",
              "      <td>6.634679</td>\n",
              "      <td>LT8</td>\n",
              "    </tr>\n",
              "    <tr>\n",
              "      <th>9</th>\n",
              "      <td>1.840197</td>\n",
              "      <td>1.384233</td>\n",
              "      <td>1.640609</td>\n",
              "      <td>1.537749</td>\n",
              "      <td>1.239334</td>\n",
              "      <td>7.642122</td>\n",
              "      <td>LT8</td>\n",
              "    </tr>\n",
              "    <tr>\n",
              "      <th>10</th>\n",
              "      <td>1.709697</td>\n",
              "      <td>1.266197</td>\n",
              "      <td>1.812678</td>\n",
              "      <td>1.841940</td>\n",
              "      <td>1.306167</td>\n",
              "      <td>7.936679</td>\n",
              "      <td>LT8</td>\n",
              "    </tr>\n",
              "    <tr>\n",
              "      <th>11</th>\n",
              "      <td>1.135978</td>\n",
              "      <td>1.355152</td>\n",
              "      <td>1.675613</td>\n",
              "      <td>1.787786</td>\n",
              "      <td>1.167448</td>\n",
              "      <td>7.121976</td>\n",
              "      <td>LT8</td>\n",
              "    </tr>\n",
              "    <tr>\n",
              "      <th>12</th>\n",
              "      <td>1.100533</td>\n",
              "      <td>1.430391</td>\n",
              "      <td>1.616617</td>\n",
              "      <td>1.235653</td>\n",
              "      <td>1.464798</td>\n",
              "      <td>6.847992</td>\n",
              "      <td>LT8</td>\n",
              "    </tr>\n",
              "    <tr>\n",
              "      <th>13</th>\n",
              "      <td>1.528000</td>\n",
              "      <td>1.763371</td>\n",
              "      <td>1.151473</td>\n",
              "      <td>1.656091</td>\n",
              "      <td>1.096980</td>\n",
              "      <td>7.195915</td>\n",
              "      <td>LT8</td>\n",
              "    </tr>\n",
              "    <tr>\n",
              "      <th>14</th>\n",
              "      <td>1.493459</td>\n",
              "      <td>1.539395</td>\n",
              "      <td>1.176642</td>\n",
              "      <td>1.847828</td>\n",
              "      <td>1.448721</td>\n",
              "      <td>7.506045</td>\n",
              "      <td>LT8</td>\n",
              "    </tr>\n",
              "    <tr>\n",
              "      <th>15</th>\n",
              "      <td>1.985188</td>\n",
              "      <td>1.663327</td>\n",
              "      <td>1.938573</td>\n",
              "      <td>1.187200</td>\n",
              "      <td>1.139376</td>\n",
              "      <td>7.913665</td>\n",
              "      <td>LT8</td>\n",
              "    </tr>\n",
              "    <tr>\n",
              "      <th>16</th>\n",
              "      <td>1.422047</td>\n",
              "      <td>1.618751</td>\n",
              "      <td>1.007095</td>\n",
              "      <td>1.839511</td>\n",
              "      <td>1.670148</td>\n",
              "      <td>7.557553</td>\n",
              "      <td>LT8</td>\n",
              "    </tr>\n",
              "    <tr>\n",
              "      <th>17</th>\n",
              "      <td>1.937488</td>\n",
              "      <td>1.410827</td>\n",
              "      <td>1.300896</td>\n",
              "      <td>1.434760</td>\n",
              "      <td>1.128551</td>\n",
              "      <td>7.212523</td>\n",
              "      <td>LT8</td>\n",
              "    </tr>\n",
              "    <tr>\n",
              "      <th>18</th>\n",
              "      <td>1.050454</td>\n",
              "      <td>1.647167</td>\n",
              "      <td>1.998804</td>\n",
              "      <td>1.030178</td>\n",
              "      <td>1.904661</td>\n",
              "      <td>7.631265</td>\n",
              "      <td>LT8</td>\n",
              "    </tr>\n",
              "    <tr>\n",
              "      <th>19</th>\n",
              "      <td>1.142159</td>\n",
              "      <td>1.507259</td>\n",
              "      <td>1.786964</td>\n",
              "      <td>1.970234</td>\n",
              "      <td>1.176711</td>\n",
              "      <td>7.583327</td>\n",
              "      <td>LT8</td>\n",
              "    </tr>\n",
              "  </tbody>\n",
              "</table>\n",
              "</div>\n",
              "    <div class=\"colab-df-buttons\">\n",
              "\n",
              "  <div class=\"colab-df-container\">\n",
              "    <button class=\"colab-df-convert\" onclick=\"convertToInteractive('df-b4afd723-76a9-4548-bdd2-56eb3ad52b07')\"\n",
              "            title=\"Convert this dataframe to an interactive table.\"\n",
              "            style=\"display:none;\">\n",
              "\n",
              "  <svg xmlns=\"http://www.w3.org/2000/svg\" height=\"24px\" viewBox=\"0 -960 960 960\">\n",
              "    <path d=\"M120-120v-720h720v720H120Zm60-500h600v-160H180v160Zm220 220h160v-160H400v160Zm0 220h160v-160H400v160ZM180-400h160v-160H180v160Zm440 0h160v-160H620v160ZM180-180h160v-160H180v160Zm440 0h160v-160H620v160Z\"/>\n",
              "  </svg>\n",
              "    </button>\n",
              "\n",
              "  <style>\n",
              "    .colab-df-container {\n",
              "      display:flex;\n",
              "      gap: 12px;\n",
              "    }\n",
              "\n",
              "    .colab-df-convert {\n",
              "      background-color: #E8F0FE;\n",
              "      border: none;\n",
              "      border-radius: 50%;\n",
              "      cursor: pointer;\n",
              "      display: none;\n",
              "      fill: #1967D2;\n",
              "      height: 32px;\n",
              "      padding: 0 0 0 0;\n",
              "      width: 32px;\n",
              "    }\n",
              "\n",
              "    .colab-df-convert:hover {\n",
              "      background-color: #E2EBFA;\n",
              "      box-shadow: 0px 1px 2px rgba(60, 64, 67, 0.3), 0px 1px 3px 1px rgba(60, 64, 67, 0.15);\n",
              "      fill: #174EA6;\n",
              "    }\n",
              "\n",
              "    .colab-df-buttons div {\n",
              "      margin-bottom: 4px;\n",
              "    }\n",
              "\n",
              "    [theme=dark] .colab-df-convert {\n",
              "      background-color: #3B4455;\n",
              "      fill: #D2E3FC;\n",
              "    }\n",
              "\n",
              "    [theme=dark] .colab-df-convert:hover {\n",
              "      background-color: #434B5C;\n",
              "      box-shadow: 0px 1px 3px 1px rgba(0, 0, 0, 0.15);\n",
              "      filter: drop-shadow(0px 1px 2px rgba(0, 0, 0, 0.3));\n",
              "      fill: #FFFFFF;\n",
              "    }\n",
              "  </style>\n",
              "\n",
              "    <script>\n",
              "      const buttonEl =\n",
              "        document.querySelector('#df-b4afd723-76a9-4548-bdd2-56eb3ad52b07 button.colab-df-convert');\n",
              "      buttonEl.style.display =\n",
              "        google.colab.kernel.accessAllowed ? 'block' : 'none';\n",
              "\n",
              "      async function convertToInteractive(key) {\n",
              "        const element = document.querySelector('#df-b4afd723-76a9-4548-bdd2-56eb3ad52b07');\n",
              "        const dataTable =\n",
              "          await google.colab.kernel.invokeFunction('convertToInteractive',\n",
              "                                                    [key], {});\n",
              "        if (!dataTable) return;\n",
              "\n",
              "        const docLinkHtml = 'Like what you see? Visit the ' +\n",
              "          '<a target=\"_blank\" href=https://colab.research.google.com/notebooks/data_table.ipynb>data table notebook</a>'\n",
              "          + ' to learn more about interactive tables.';\n",
              "        element.innerHTML = '';\n",
              "        dataTable['output_type'] = 'display_data';\n",
              "        await google.colab.output.renderOutput(dataTable, element);\n",
              "        const docLink = document.createElement('div');\n",
              "        docLink.innerHTML = docLinkHtml;\n",
              "        element.appendChild(docLink);\n",
              "      }\n",
              "    </script>\n",
              "  </div>\n",
              "\n",
              "\n",
              "    <div id=\"df-281b4646-28ac-40ea-b178-5a5a7e5f132c\">\n",
              "      <button class=\"colab-df-quickchart\" onclick=\"quickchart('df-281b4646-28ac-40ea-b178-5a5a7e5f132c')\"\n",
              "                title=\"Suggest charts\"\n",
              "                style=\"display:none;\">\n",
              "\n",
              "<svg xmlns=\"http://www.w3.org/2000/svg\" height=\"24px\"viewBox=\"0 0 24 24\"\n",
              "     width=\"24px\">\n",
              "    <g>\n",
              "        <path d=\"M19 3H5c-1.1 0-2 .9-2 2v14c0 1.1.9 2 2 2h14c1.1 0 2-.9 2-2V5c0-1.1-.9-2-2-2zM9 17H7v-7h2v7zm4 0h-2V7h2v10zm4 0h-2v-4h2v4z\"/>\n",
              "    </g>\n",
              "</svg>\n",
              "      </button>\n",
              "\n",
              "<style>\n",
              "  .colab-df-quickchart {\n",
              "      --bg-color: #E8F0FE;\n",
              "      --fill-color: #1967D2;\n",
              "      --hover-bg-color: #E2EBFA;\n",
              "      --hover-fill-color: #174EA6;\n",
              "      --disabled-fill-color: #AAA;\n",
              "      --disabled-bg-color: #DDD;\n",
              "  }\n",
              "\n",
              "  [theme=dark] .colab-df-quickchart {\n",
              "      --bg-color: #3B4455;\n",
              "      --fill-color: #D2E3FC;\n",
              "      --hover-bg-color: #434B5C;\n",
              "      --hover-fill-color: #FFFFFF;\n",
              "      --disabled-bg-color: #3B4455;\n",
              "      --disabled-fill-color: #666;\n",
              "  }\n",
              "\n",
              "  .colab-df-quickchart {\n",
              "    background-color: var(--bg-color);\n",
              "    border: none;\n",
              "    border-radius: 50%;\n",
              "    cursor: pointer;\n",
              "    display: none;\n",
              "    fill: var(--fill-color);\n",
              "    height: 32px;\n",
              "    padding: 0;\n",
              "    width: 32px;\n",
              "  }\n",
              "\n",
              "  .colab-df-quickchart:hover {\n",
              "    background-color: var(--hover-bg-color);\n",
              "    box-shadow: 0 1px 2px rgba(60, 64, 67, 0.3), 0 1px 3px 1px rgba(60, 64, 67, 0.15);\n",
              "    fill: var(--button-hover-fill-color);\n",
              "  }\n",
              "\n",
              "  .colab-df-quickchart-complete:disabled,\n",
              "  .colab-df-quickchart-complete:disabled:hover {\n",
              "    background-color: var(--disabled-bg-color);\n",
              "    fill: var(--disabled-fill-color);\n",
              "    box-shadow: none;\n",
              "  }\n",
              "\n",
              "  .colab-df-spinner {\n",
              "    border: 2px solid var(--fill-color);\n",
              "    border-color: transparent;\n",
              "    border-bottom-color: var(--fill-color);\n",
              "    animation:\n",
              "      spin 1s steps(1) infinite;\n",
              "  }\n",
              "\n",
              "  @keyframes spin {\n",
              "    0% {\n",
              "      border-color: transparent;\n",
              "      border-bottom-color: var(--fill-color);\n",
              "      border-left-color: var(--fill-color);\n",
              "    }\n",
              "    20% {\n",
              "      border-color: transparent;\n",
              "      border-left-color: var(--fill-color);\n",
              "      border-top-color: var(--fill-color);\n",
              "    }\n",
              "    30% {\n",
              "      border-color: transparent;\n",
              "      border-left-color: var(--fill-color);\n",
              "      border-top-color: var(--fill-color);\n",
              "      border-right-color: var(--fill-color);\n",
              "    }\n",
              "    40% {\n",
              "      border-color: transparent;\n",
              "      border-right-color: var(--fill-color);\n",
              "      border-top-color: var(--fill-color);\n",
              "    }\n",
              "    60% {\n",
              "      border-color: transparent;\n",
              "      border-right-color: var(--fill-color);\n",
              "    }\n",
              "    80% {\n",
              "      border-color: transparent;\n",
              "      border-right-color: var(--fill-color);\n",
              "      border-bottom-color: var(--fill-color);\n",
              "    }\n",
              "    90% {\n",
              "      border-color: transparent;\n",
              "      border-bottom-color: var(--fill-color);\n",
              "    }\n",
              "  }\n",
              "</style>\n",
              "\n",
              "      <script>\n",
              "        async function quickchart(key) {\n",
              "          const quickchartButtonEl =\n",
              "            document.querySelector('#' + key + ' button');\n",
              "          quickchartButtonEl.disabled = true;  // To prevent multiple clicks.\n",
              "          quickchartButtonEl.classList.add('colab-df-spinner');\n",
              "          try {\n",
              "            const charts = await google.colab.kernel.invokeFunction(\n",
              "                'suggestCharts', [key], {});\n",
              "          } catch (error) {\n",
              "            console.error('Error during call to suggestCharts:', error);\n",
              "          }\n",
              "          quickchartButtonEl.classList.remove('colab-df-spinner');\n",
              "          quickchartButtonEl.classList.add('colab-df-quickchart-complete');\n",
              "        }\n",
              "        (() => {\n",
              "          let quickchartButtonEl =\n",
              "            document.querySelector('#df-281b4646-28ac-40ea-b178-5a5a7e5f132c button');\n",
              "          quickchartButtonEl.style.display =\n",
              "            google.colab.kernel.accessAllowed ? 'block' : 'none';\n",
              "        })();\n",
              "      </script>\n",
              "    </div>\n",
              "\n",
              "  <div id=\"id_86c4ca79-57da-4d4c-8d1c-9e29d21f0bac\">\n",
              "    <style>\n",
              "      .colab-df-generate {\n",
              "        background-color: #E8F0FE;\n",
              "        border: none;\n",
              "        border-radius: 50%;\n",
              "        cursor: pointer;\n",
              "        display: none;\n",
              "        fill: #1967D2;\n",
              "        height: 32px;\n",
              "        padding: 0 0 0 0;\n",
              "        width: 32px;\n",
              "      }\n",
              "\n",
              "      .colab-df-generate:hover {\n",
              "        background-color: #E2EBFA;\n",
              "        box-shadow: 0px 1px 2px rgba(60, 64, 67, 0.3), 0px 1px 3px 1px rgba(60, 64, 67, 0.15);\n",
              "        fill: #174EA6;\n",
              "      }\n",
              "\n",
              "      [theme=dark] .colab-df-generate {\n",
              "        background-color: #3B4455;\n",
              "        fill: #D2E3FC;\n",
              "      }\n",
              "\n",
              "      [theme=dark] .colab-df-generate:hover {\n",
              "        background-color: #434B5C;\n",
              "        box-shadow: 0px 1px 3px 1px rgba(0, 0, 0, 0.15);\n",
              "        filter: drop-shadow(0px 1px 2px rgba(0, 0, 0, 0.3));\n",
              "        fill: #FFFFFF;\n",
              "      }\n",
              "    </style>\n",
              "    <button class=\"colab-df-generate\" onclick=\"generateWithVariable('df')\"\n",
              "            title=\"Generate code using this dataframe.\"\n",
              "            style=\"display:none;\">\n",
              "\n",
              "  <svg xmlns=\"http://www.w3.org/2000/svg\" height=\"24px\"viewBox=\"0 0 24 24\"\n",
              "       width=\"24px\">\n",
              "    <path d=\"M7,19H8.4L18.45,9,17,7.55,7,17.6ZM5,21V16.75L18.45,3.32a2,2,0,0,1,2.83,0l1.4,1.43a1.91,1.91,0,0,1,.58,1.4,1.91,1.91,0,0,1-.58,1.4L9.25,21ZM18.45,9,17,7.55Zm-12,3A5.31,5.31,0,0,0,4.9,8.1,5.31,5.31,0,0,0,1,6.5,5.31,5.31,0,0,0,4.9,4.9,5.31,5.31,0,0,0,6.5,1,5.31,5.31,0,0,0,8.1,4.9,5.31,5.31,0,0,0,12,6.5,5.46,5.46,0,0,0,6.5,12Z\"/>\n",
              "  </svg>\n",
              "    </button>\n",
              "    <script>\n",
              "      (() => {\n",
              "      const buttonEl =\n",
              "        document.querySelector('#id_86c4ca79-57da-4d4c-8d1c-9e29d21f0bac button.colab-df-generate');\n",
              "      buttonEl.style.display =\n",
              "        google.colab.kernel.accessAllowed ? 'block' : 'none';\n",
              "\n",
              "      buttonEl.onclick = () => {\n",
              "        google.colab.notebook.generateWithVariable('df');\n",
              "      }\n",
              "      })();\n",
              "    </script>\n",
              "  </div>\n",
              "\n",
              "    </div>\n",
              "  </div>\n"
            ],
            "text/plain": [
              "           a         b         c         d         e         f    g\n",
              "0   1.164392  1.039868  1.939318  1.052144  1.523065  6.718787  LT8\n",
              "1   1.835975  1.894295  1.555878  1.601845  1.318262  8.206255  GT8\n",
              "2   1.633111  1.919408  1.494082  1.509307  1.425979  7.981887  LT8\n",
              "3   1.970563  1.614688  1.126126  1.494106  1.555363  7.760846  LT8\n",
              "4   1.043133  1.390871  1.340745  1.050497  1.922566  6.747811  LT8\n",
              "5   1.740366  1.493295  1.840256  1.068124  1.906627  8.048668  GT8\n",
              "6   1.225128  1.942515  1.230504  1.512751  1.417149  7.328049  LT8\n",
              "7   1.011441  1.419706  1.739542  1.799663  1.146720  7.117073  LT8\n",
              "8   1.357328  1.816439  1.042319  1.059770  1.358824  6.634679  LT8\n",
              "9   1.840197  1.384233  1.640609  1.537749  1.239334  7.642122  LT8\n",
              "10  1.709697  1.266197  1.812678  1.841940  1.306167  7.936679  LT8\n",
              "11  1.135978  1.355152  1.675613  1.787786  1.167448  7.121976  LT8\n",
              "12  1.100533  1.430391  1.616617  1.235653  1.464798  6.847992  LT8\n",
              "13  1.528000  1.763371  1.151473  1.656091  1.096980  7.195915  LT8\n",
              "14  1.493459  1.539395  1.176642  1.847828  1.448721  7.506045  LT8\n",
              "15  1.985188  1.663327  1.938573  1.187200  1.139376  7.913665  LT8\n",
              "16  1.422047  1.618751  1.007095  1.839511  1.670148  7.557553  LT8\n",
              "17  1.937488  1.410827  1.300896  1.434760  1.128551  7.212523  LT8\n",
              "18  1.050454  1.647167  1.998804  1.030178  1.904661  7.631265  LT8\n",
              "19  1.142159  1.507259  1.786964  1.970234  1.176711  7.583327  LT8"
            ]
          },
          "metadata": {},
          "output_type": "display_data"
        }
      ],
      "source": [
        "\n",
        "\n",
        "# Create a DataFrame with random values between 1 and 2\n",
        "A = np.random.uniform(1, 2, size=(20, 5))\n",
        "df = pd.DataFrame(A, columns=['a', 'b', 'c', 'd', 'e'])\n",
        "\n",
        "# Add column 'f' as the sum of columns a to e\n",
        "df['f'] = df.sum(axis=1)\n",
        "\n",
        "# Add column 'g' based on the value in 'f'\n",
        "df['g'] = np.where(df['f'] < 8, 'LT8', 'GT8')\n",
        "\n",
        "# Count rows where g == 'LT8'\n",
        "lt8_count = (df['g'] == 'LT8').sum()\n",
        "\n",
        "# Compute standard deviation of 'f' for each group\n",
        "std_lt8 = df[df['g'] == 'LT8']['f'].std()\n",
        "std_gt8 = df[df['g'] == 'GT8']['f'].std()\n",
        "\n",
        "# Display results\n",
        "print(f\"Number of rows with g == 'LT8': {lt8_count}\")\n",
        "print(f\"Standard deviation of 'f' for LT8 group: {std_lt8:.4f}\")\n",
        "print(f\"Standard deviation of 'f' for GT8 group: {std_gt8:.4f}\")\n",
        "\n",
        "display(df)\n"
      ]
    },
    {
      "cell_type": "markdown",
      "metadata": {
        "id": "kBBrMzfYfDha"
      },
      "source": [
        "## Question 12"
      ]
    },
    {
      "cell_type": "markdown",
      "metadata": {
        "id": "pupFmstWfGj2"
      },
      "source": [
        "When two NumPy arrays with different shapes are added together, NumPy attempts to automatically adjust (or \"broadcast\") the shapes to make the operation possible. Below are some examples demonstrating it."
      ]
    },
    {
      "cell_type": "code",
      "execution_count": null,
      "metadata": {
        "colab": {
          "base_uri": "https://localhost:8080/"
        },
        "id": "jkJWhCklerRS",
        "outputId": "72327edf-ad84-4b5b-e363-59a2d6c9d8b2"
      },
      "outputs": [
        {
          "name": "stdout",
          "output_type": "stream",
          "text": [
            "[[11 21 31]\n",
            " [12 22 32]\n",
            " [13 23 33]]\n",
            "[[ 6 12 18]\n",
            " [ 9 15 21]\n",
            " [12 18 24]]\n",
            "[[ 6  7  8]\n",
            " [14 15 16]\n",
            " [22 23 24]]\n",
            "[[101 102 103]\n",
            " [104 105 106]]\n"
          ]
        }
      ],
      "source": [
        "print(np.array([10, 20, 30]) + np.array([1, 2, 3]).reshape(-1, 1))\n",
        "print(np.array([5, 10, 15]) + np.array([[1, 2, 3], [4, 5, 6], [7, 8, 9]]))\n",
        "print(np.array([5, 10, 15]).reshape(-1, 1) + np.array([[1, 2, 3], [4, 5, 6], [7, 8, 9]]))\n",
        "print(100 + np.array([[1, 2, 3], [4, 5, 6]]))\n"
      ]
    },
    {
      "cell_type": "markdown",
      "metadata": {
        "id": "zApzWrtOfpaI"
      },
      "source": [
        "## Question 13"
      ]
    },
    {
      "cell_type": "code",
      "execution_count": null,
      "metadata": {
        "colab": {
          "base_uri": "https://localhost:8080/"
        },
        "id": "oM0-zz1cfY0H",
        "outputId": "9e1dbb52-1145-427f-cbee-196275cc4e96"
      },
      "outputs": [
        {
          "name": "stdout",
          "output_type": "stream",
          "text": [
            "Array used = [0.38138405 0.11987629 0.86302233 0.68770012 0.12485174 0.55163712\n",
            " 0.81784752 0.5116795  0.36775698 0.27885653 0.76033282 0.2012344\n",
            " 0.71693872 0.52079515 0.79393791 0.42059186 0.5669466  0.65402068\n",
            " 0.79617063 0.08843202]\n",
            "Argmin calculated by function = 19\n",
            "Argmin calculated by np.argmin = 19\n"
          ]
        }
      ],
      "source": [
        "\n",
        "def argmin(arr):\n",
        "  min = np.inf\n",
        "  index=None\n",
        "  for i in range(len(arr)):\n",
        "    if arr[i]<min:\n",
        "      min=arr[i]\n",
        "      index = i\n",
        "  return index\n",
        "\n",
        "def argmin_numpy(arr):\n",
        "  return np.argmin(arr)\n",
        "\n",
        "arr = np.random.random(20)\n",
        "print(f\"Array used = {arr}\")\n",
        "print(f\"Argmin calculated by function = {argmin(arr)}\")\n",
        "print(f\"Argmin calculated by np.argmin = {argmin_numpy(arr)}\")"
      ]
    }
  ],
  "metadata": {
    "colab": {
      "authorship_tag": "ABX9TyOCU0KDXIgy5M8jXZ3C8mLq",
      "include_colab_link": true,
      "provenance": []
    },
    "kernelspec": {
      "display_name": "Python 3",
      "name": "python3"
    },
    "language_info": {
      "name": "python"
    }
  },
  "nbformat": 4,
  "nbformat_minor": 0
}
